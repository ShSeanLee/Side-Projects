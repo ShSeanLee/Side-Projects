{
 "cells": [
  {
   "cell_type": "markdown",
   "id": "555b806f",
   "metadata": {},
   "source": [
    "## 이미지 1000개 추출 "
   ]
  },
  {
   "cell_type": "code",
   "execution_count": 2,
   "id": "50c77574",
   "metadata": {},
   "outputs": [],
   "source": [
    "import os\n",
    "from time import sleep\n",
    "import time\n",
    "import re\n",
    "from bs4 import BeautifulSoup\n",
    "from selenium import webdriver\n",
    "from selenium.common.exceptions import ElementNotInteractableException\n",
    "from selenium.common.exceptions import NoSuchElementException\n",
    "from selenium.webdriver.common.keys import Keys\n",
    "import pandas as pd\n",
    "import numpy as np\n",
    "import os\n",
    "import cv2\n",
    "import urllib\n",
    "from PIL import Image\n",
    "\n",
    "from selenium.webdriver.common.by import By\n",
    "from selenium.webdriver.chrome.options import Options\n",
    "from selenium.webdriver.support.ui import WebDriverWait\n",
    "from selenium.webdriver.support import expected_conditions as EC\n",
    "\n",
    "import warnings\n",
    "warnings.filterwarnings(action='ignore')\n",
    "\n",
    "\n",
    "options = Options()\n",
    "\n",
    "\n",
    "driver = webdriver.Chrome(options=options, executable_path=\"./chromedriver_win32/chromedriver.exe\")\n",
    "url = 'http://124.49.179.242:8888/'\n",
    "driver.get(url)\n",
    "time.sleep(1)\n",
    "\n",
    "# a태그 클릭\n",
    "a = driver.find_element_by_css_selector('#form1 > div.midarea > div > div > dl.deviceinfo > dt > a')\n",
    "a.click()\n",
    "\n",
    "os.mkdir('./smaple_img/')\n",
    "for i in range(1000): # 1000개 이미지 획득\n",
    "    captcha_img = driver.find_element_by_css_selector('#captcha_img')\n",
    "    url = captcha_img.get_attribute('src') \n",
    "    img_file = f\"./sample_img/captcha_img{i}.gif\"\n",
    "    urllib.request.urlretrieve(url, img_file)\n",
    "    with Image.open(img_file) as im:\n",
    "        im.save(f\"./sample_img/captcha_img{i}.png\")\n",
    "    os.remove(img_file)\n",
    "    \n",
    "    if i != 9:\n",
    "        get_new_image = driver.find_element_by_css_selector('#form1 > div.modalpop > div.popupwrap.deviceconnect > div > p.renew_captcha > button')\n",
    "        get_new_image.click()\n",
    "    time.sleep(0.5)"
   ]
  },
  {
   "cell_type": "code",
   "execution_count": null,
   "id": "2edde47e",
   "metadata": {},
   "outputs": [],
   "source": []
  }
 ],
 "metadata": {
  "kernelspec": {
   "display_name": "Python 3 (ipykernel)",
   "language": "python",
   "name": "python3"
  },
  "language_info": {
   "codemirror_mode": {
    "name": "ipython",
    "version": 3
   },
   "file_extension": ".py",
   "mimetype": "text/x-python",
   "name": "python",
   "nbconvert_exporter": "python",
   "pygments_lexer": "ipython3",
   "version": "3.9.7"
  }
 },
 "nbformat": 4,
 "nbformat_minor": 5
}
